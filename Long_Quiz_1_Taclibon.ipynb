{
  "nbformat": 4,
  "nbformat_minor": 0,
  "metadata": {
    "colab": {
      "name": "Long Quiz 1 Taclibon.ipynb",
      "provenance": [],
      "authorship_tag": "ABX9TyPpKpTGqnW3b7aGa/UWcPeV",
      "include_colab_link": true
    },
    "kernelspec": {
      "name": "python3",
      "display_name": "Python 3"
    },
    "language_info": {
      "name": "python"
    }
  },
  "cells": [
    {
      "cell_type": "markdown",
      "metadata": {
        "id": "view-in-github",
        "colab_type": "text"
      },
      "source": [
        "<a href=\"https://colab.research.google.com/github/Whywhyaaaa/OOP-58001/blob/main/Long_Quiz_1_Taclibon.ipynb\" target=\"_parent\"><img src=\"https://colab.research.google.com/assets/colab-badge.svg\" alt=\"Open In Colab\"/></a>"
      ]
    },
    {
      "cell_type": "markdown",
      "source": [
        "# **Long Quiz 1 Taclibon**\n",
        "\n"
      ],
      "metadata": {
        "id": "F8vSmKiptLe7"
      }
    },
    {
      "cell_type": "code",
      "source": [
        "class Circle():\n",
        "  def __init__(self,radius,pi):\n",
        "    self.radius = radius\n",
        "    self.pi = pi\n",
        "\n",
        "  def Area(self):\n",
        "    return self.pi*(self.radius)**2\n",
        "\n",
        "  def Perimeter(self):\n",
        "    return 2*self.pi*self.radius\n",
        "\n",
        "  def display(self):\n",
        "    print(\"The area of the circle is\", self.Perimeter())\n",
        "    print(\"The Perimeter of the circle is\", self.Area())\n",
        "\n",
        "  bilog = Circle(int(input()), 3.14)\n",
        "  bilog.display()"
      ],
      "metadata": {
        "colab": {
          "base_uri": "https://localhost:8080/"
        },
        "id": "ZzV_3cNDtS9s",
        "outputId": "de170cd8-ae14-4aac-e68c-456a5abeea56"
      },
      "execution_count": 6,
      "outputs": [
        {
          "output_type": "stream",
          "name": "stdout",
          "text": [
            "420\n",
            "The area of the circle is 2637.6\n",
            "The Perimeter of the circle is 553896.0\n"
          ]
        }
      ]
    }
  ]
}