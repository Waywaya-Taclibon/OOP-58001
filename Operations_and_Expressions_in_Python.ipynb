{
  "nbformat": 4,
  "nbformat_minor": 0,
  "metadata": {
    "colab": {
      "name": "Operations_and_Expressions_in_Python",
      "provenance": [],
      "collapsed_sections": [],
      "authorship_tag": "ABX9TyN4Vv10eBbr1D9jkRiqhhkG",
      "include_colab_link": true
    },
    "kernelspec": {
      "name": "python3",
      "display_name": "Python 3"
    },
    "language_info": {
      "name": "python"
    }
  },
  "cells": [
    {
      "cell_type": "markdown",
      "metadata": {
        "id": "view-in-github",
        "colab_type": "text"
      },
      "source": [
        "<a href=\"https://colab.research.google.com/github/Whywhyaaaa/OOP-58001/blob/main/Operations_and_Expressions_in_Python.ipynb\" target=\"_parent\"><img src=\"https://colab.research.google.com/assets/colab-badge.svg\" alt=\"Open In Colab\"/></a>"
      ]
    },
    {
      "cell_type": "markdown",
      "source": [
        "Boolean Operators"
      ],
      "metadata": {
        "id": "jU2QMWbHdjQm"
      }
    },
    {
      "cell_type": "code",
      "source": [
        "print(10>9)\n",
        "print(10==9)\n",
        "print(10!=9)\n",
        "print(10<9)"
      ],
      "metadata": {
        "colab": {
          "base_uri": "https://localhost:8080/"
        },
        "id": "j2X5rukWdogn",
        "outputId": "4e12c321-e83a-4b53-ea31-e57a4193df48"
      },
      "execution_count": null,
      "outputs": [
        {
          "output_type": "stream",
          "name": "stdout",
          "text": [
            "True\n",
            "False\n",
            "True\n",
            "False\n"
          ]
        }
      ]
    },
    {
      "cell_type": "markdown",
      "source": [
        "bool() Function"
      ],
      "metadata": {
        "id": "rV3JF1-ydoyw"
      }
    },
    {
      "cell_type": "code",
      "source": [
        "print(bool(\"Way\"))\n",
        "print(bool(19))\n",
        "print(bool([]))\n",
        "print(bool(0))\n",
        "print(bool(1))\n",
        "print(bool(None))\n",
        "print(bool(False))"
      ],
      "metadata": {
        "colab": {
          "base_uri": "https://localhost:8080/"
        },
        "id": "MrFhncH9dpF_",
        "outputId": "da86569c-b619-4a4c-97c0-399a1a292837"
      },
      "execution_count": null,
      "outputs": [
        {
          "output_type": "stream",
          "name": "stdout",
          "text": [
            "True\n",
            "True\n",
            "False\n",
            "False\n",
            "True\n",
            "False\n",
            "False\n"
          ]
        }
      ]
    },
    {
      "cell_type": "markdown",
      "source": [
        "Function Can return a Boolean"
      ],
      "metadata": {
        "id": "1UvuGI0Bd0EB"
      }
    },
    {
      "cell_type": "code",
      "source": [
        "def myFunction():\n",
        "  return True\n",
        "\n",
        "print(myFunction())"
      ],
      "metadata": {
        "colab": {
          "base_uri": "https://localhost:8080/"
        },
        "id": "EjOydopUd2g_",
        "outputId": "80123940-2b3d-47b9-e8bd-3808967cb54d"
      },
      "execution_count": null,
      "outputs": [
        {
          "output_type": "stream",
          "name": "stdout",
          "text": [
            "True\n"
          ]
        }
      ]
    },
    {
      "cell_type": "code",
      "source": [
        "if myFunction():\n",
        "  print(\"YES!\")\n",
        "else:\n",
        "  print(\"NO!\")"
      ],
      "metadata": {
        "colab": {
          "base_uri": "https://localhost:8080/"
        },
        "id": "eIuqMCt_d96K",
        "outputId": "93cef4ac-3ec4-44b7-9d53-afa5435eab13"
      },
      "execution_count": null,
      "outputs": [
        {
          "output_type": "stream",
          "name": "stdout",
          "text": [
            "YES!\n"
          ]
        }
      ]
    },
    {
      "cell_type": "markdown",
      "source": [
        "Application 1"
      ],
      "metadata": {
        "id": "BjBgXi9zd-nk"
      }
    },
    {
      "cell_type": "code",
      "source": [
        "print(10>9)\n",
        "\n",
        "a=60\n",
        "b=13\n",
        "print(a==b)\n",
        "print(a!=b)"
      ],
      "metadata": {
        "colab": {
          "base_uri": "https://localhost:8080/"
        },
        "id": "dAlYhJGfeBrz",
        "outputId": "f252820d-db2b-4e72-f032-e155c4946b86"
      },
      "execution_count": null,
      "outputs": [
        {
          "output_type": "stream",
          "name": "stdout",
          "text": [
            "True\n",
            "False\n",
            "True\n"
          ]
        }
      ]
    },
    {
      "cell_type": "markdown",
      "source": [
        "Python Operators"
      ],
      "metadata": {
        "id": "_jnDjsrBeDDW"
      }
    },
    {
      "cell_type": "code",
      "source": [
        "print(10+3)\n",
        "print(10 - 3)\n",
        "print(10*3)\n",
        "print(10/3)\n",
        "print(10 % 3)\n",
        "print(10//3)"
      ],
      "metadata": {
        "colab": {
          "base_uri": "https://localhost:8080/"
        },
        "id": "YkjVeVsueGAo",
        "outputId": "de170369-0cc7-4e89-ba9e-46a3edddaef1"
      },
      "execution_count": null,
      "outputs": [
        {
          "output_type": "stream",
          "name": "stdout",
          "text": [
            "13\n",
            "7\n",
            "30\n",
            "3.3333333333333335\n",
            "1\n",
            "3\n"
          ]
        }
      ]
    },
    {
      "cell_type": "markdown",
      "source": [
        "Bitwise Operators"
      ],
      "metadata": {
        "id": "vnlIrkRjeH9X"
      }
    },
    {
      "cell_type": "code",
      "source": [
        "#a=60, binary 0011 1100\n",
        "#b=13, binary 0000 1101\n",
        "\n",
        "print(a&b)\n",
        "print(a|b)\n",
        "print(a^b)\n",
        "print(a<<b)\n",
        "print(a>>b)"
      ],
      "metadata": {
        "colab": {
          "base_uri": "https://localhost:8080/"
        },
        "id": "0X7dU0nXeJfe",
        "outputId": "f23cbb87-dbee-4292-acc6-f947cffe607a"
      },
      "execution_count": null,
      "outputs": [
        {
          "output_type": "stream",
          "name": "stdout",
          "text": [
            "12\n",
            "61\n",
            "49\n",
            "491520\n",
            "0\n"
          ]
        }
      ]
    },
    {
      "cell_type": "markdown",
      "source": [
        "Application2"
      ],
      "metadata": {
        "id": "7oW362h4eLWH"
      }
    },
    {
      "cell_type": "markdown",
      "source": [
        "Assignemnt Operators"
      ],
      "metadata": {
        "id": "6QZYPARweNCi"
      }
    },
    {
      "cell_type": "code",
      "source": [
        "a+=3 #Same As a = a+3\n",
        "a-=3 #Same As a = a-3\n",
        "a*=3 #Same As a = a*3\n",
        "a/=3 #Same As a = a/3\n",
        "a%=3 #Same As a = a%3"
      ],
      "metadata": {
        "id": "191EwkyveOH4"
      },
      "execution_count": null,
      "outputs": []
    },
    {
      "cell_type": "markdown",
      "source": [
        "Logical Operators"
      ],
      "metadata": {
        "id": "WjJ-T69jeQiJ"
      }
    },
    {
      "cell_type": "code",
      "source": [
        "k = True \n",
        "l = False \n",
        "print(k and l)\n",
        "print(k or l)\n",
        "print(not(k or l))"
      ],
      "metadata": {
        "colab": {
          "base_uri": "https://localhost:8080/"
        },
        "id": "NuqVdUa2eU5M",
        "outputId": "06450744-b2bf-4b76-e1ce-068a2b556a51"
      },
      "execution_count": null,
      "outputs": [
        {
          "output_type": "stream",
          "name": "stdout",
          "text": [
            "False\n",
            "True\n",
            "False\n"
          ]
        }
      ]
    },
    {
      "cell_type": "markdown",
      "source": [
        "Identity operators"
      ],
      "metadata": {
        "id": "_Ot8UOAhefy6"
      }
    },
    {
      "cell_type": "code",
      "source": [
        "print(k is l)\n",
        "print(k is not l)"
      ],
      "metadata": {
        "colab": {
          "base_uri": "https://localhost:8080/"
        },
        "id": "MnYZS8IgeiVH",
        "outputId": "5ffe7969-e119-4ff4-84f5-84a99fa6f2f2"
      },
      "execution_count": null,
      "outputs": [
        {
          "output_type": "stream",
          "name": "stdout",
          "text": [
            "False\n",
            "True\n"
          ]
        }
      ]
    },
    {
      "cell_type": "markdown",
      "source": [
        "# Control Structure"
      ],
      "metadata": {
        "id": "cjOqTw_Qej2-"
      }
    },
    {
      "cell_type": "markdown",
      "source": [
        "if Statement"
      ],
      "metadata": {
        "id": "Zq77r0omepY3"
      }
    },
    {
      "cell_type": "code",
      "source": [
        "v = 1\n",
        "z = 1\n",
        "\n",
        "if v<z:\n",
        "  print(\"1 is less than 2\")"
      ],
      "metadata": {
        "id": "R4lhKShpeqj4"
      },
      "execution_count": null,
      "outputs": []
    },
    {
      "cell_type": "markdown",
      "source": [
        "Elif Statement"
      ],
      "metadata": {
        "id": "296ppKtaesnJ"
      }
    },
    {
      "cell_type": "code",
      "source": [
        "if v<z:\n",
        "  print(\"v is less than z\")\n",
        "\n",
        "elif v!=z:\n",
        "  print(\"v is not z\")"
      ],
      "metadata": {
        "id": "hTuBZkZ2fKcV"
      },
      "execution_count": null,
      "outputs": []
    },
    {
      "cell_type": "markdown",
      "source": [
        "Else Statement"
      ],
      "metadata": {
        "id": "T3304fnEfMMS"
      }
    },
    {
      "cell_type": "code",
      "source": [
        "number = int(input())\n",
        "\n",
        "if number>0:\n",
        "  print(\"Positive\")\n",
        "\n",
        "elif number<0:\n",
        "  print(\"negative\")\n",
        "\n",
        "else:\n",
        "  print(\"number is equal to zero\")"
      ],
      "metadata": {
        "colab": {
          "base_uri": "https://localhost:8080/"
        },
        "id": "IJmIvrv-gfZI",
        "outputId": "cb8f3fe6-a099-40bf-c4fb-66b088ccdb45"
      },
      "execution_count": null,
      "outputs": [
        {
          "output_type": "stream",
          "name": "stdout",
          "text": [
            "4\n",
            "Positive\n"
          ]
        }
      ]
    },
    {
      "cell_type": "markdown",
      "source": [
        "Application 3 - Develop a Phython program that will accept if a person is entitled to vote or not"
      ],
      "metadata": {
        "id": "wpvgaHGKghme"
      }
    },
    {
      "cell_type": "code",
      "source": [
        "age = int(input())\n",
        "\n",
        "if age >= 18:\n",
        "  print(\"You are qulifed to vote\")\n",
        "else:\n",
        "  print(\"you are not qualified to vote\")"
      ],
      "metadata": {
        "colab": {
          "base_uri": "https://localhost:8080/"
        },
        "id": "X91rexJpgk3Y",
        "outputId": "0b47b183-49bc-4728-a1be-12d0114e63ff"
      },
      "execution_count": null,
      "outputs": [
        {
          "output_type": "stream",
          "name": "stdout",
          "text": [
            "16\n",
            "you are not qualified to vote\n"
          ]
        }
      ]
    },
    {
      "cell_type": "markdown",
      "source": [
        "Nested if...Else"
      ],
      "metadata": {
        "id": "kM1qKfqugnff"
      }
    },
    {
      "cell_type": "code",
      "source": [
        "u = int(input())\n",
        "if u>10:\n",
        "  print(\"u is above 10\")\n",
        "  if u>20:\n",
        "    print(\"u is above 20\")\n",
        "    if u>30:\n",
        "      print(\"u is above 30\")\n",
        "      if u>40:\n",
        "        print(\"u is above 40\")\n",
        "        if u>50:\n",
        "          print(\"u is above 50\")\n",
        "        else:\n",
        "          print(\"u is below 50\")"
      ],
      "metadata": {
        "colab": {
          "base_uri": "https://localhost:8080/"
        },
        "id": "0jzNiG2Ngpl-",
        "outputId": "bf005699-7da3-4b95-88c9-70f7cd0b2423"
      },
      "execution_count": null,
      "outputs": [
        {
          "output_type": "stream",
          "name": "stdout",
          "text": [
            "16\n",
            "u is above 10\n"
          ]
        }
      ]
    },
    {
      "cell_type": "markdown",
      "source": [
        "# Loop Structure"
      ],
      "metadata": {
        "id": "-btloU0pgsca"
      }
    },
    {
      "cell_type": "code",
      "source": [
        "week = ['Sunday','Monday','Tuesday','Wednesday','Thursday','Friday','Saturday']\n",
        "Season=['rainy','sunny']\n",
        "for x in week:\n",
        "  for y in Season:\n",
        "    print(y,x)"
      ],
      "metadata": {
        "colab": {
          "base_uri": "https://localhost:8080/"
        },
        "id": "yVKOd-L1gv-l",
        "outputId": "5d189c51-d4ea-4faf-f539-01c8211d2136"
      },
      "execution_count": null,
      "outputs": [
        {
          "output_type": "stream",
          "name": "stdout",
          "text": [
            "rainy Sunday\n",
            "sunny Sunday\n",
            "rainy Monday\n",
            "sunny Monday\n",
            "rainy Tuesday\n",
            "sunny Tuesday\n",
            "rainy Wednesday\n",
            "sunny Wednesday\n",
            "rainy Thursday\n",
            "sunny Thursday\n",
            "rainy Friday\n",
            "sunny Friday\n",
            "rainy Saturday\n",
            "sunny Saturday\n"
          ]
        }
      ]
    },
    {
      "cell_type": "markdown",
      "source": [
        "The break statement"
      ],
      "metadata": {
        "id": "IGu3yUPGgx1_"
      }
    },
    {
      "cell_type": "code",
      "source": [
        "for x in week:\n",
        "  print(x)\n",
        "  if x == 'Thursday':\n",
        "    break"
      ],
      "metadata": {
        "colab": {
          "base_uri": "https://localhost:8080/"
        },
        "id": "05jwJh-YhVTi",
        "outputId": "0cc4655f-55c7-412d-c207-63c2f4f13d00"
      },
      "execution_count": null,
      "outputs": [
        {
          "output_type": "stream",
          "name": "stdout",
          "text": [
            "Sunday\n",
            "Monday\n",
            "Tuesday\n",
            "Wednesday\n",
            "Thursday\n"
          ]
        }
      ]
    },
    {
      "cell_type": "markdown",
      "source": [
        "While loop"
      ],
      "metadata": {
        "id": "pESsYKw5hkSV"
      }
    },
    {
      "cell_type": "code",
      "source": [
        "i=1\n",
        "\n",
        "while i<=6:\n",
        "  print(i)\n",
        "  i+=1"
      ],
      "metadata": {
        "colab": {
          "base_uri": "https://localhost:8080/"
        },
        "id": "CoaGbnolhnk5",
        "outputId": "b2f333c1-ad97-4fda-ece7-d223cfcdb270"
      },
      "execution_count": null,
      "outputs": [
        {
          "output_type": "stream",
          "name": "stdout",
          "text": [
            "1\n",
            "2\n",
            "3\n",
            "4\n",
            "5\n",
            "6\n"
          ]
        }
      ]
    },
    {
      "cell_type": "markdown",
      "source": [
        "Application 4 - Creat a phython program that displays numbers from 1 to 4 :"
      ],
      "metadata": {
        "id": "FgWn3Qyfhv1E"
      }
    },
    {
      "cell_type": "code",
      "source": [
        "j=1\n",
        "while j<=4:\n",
        "  print(j)\n",
        "  j+=1"
      ],
      "metadata": {
        "colab": {
          "base_uri": "https://localhost:8080/"
        },
        "id": "gn_RrYvwisBL",
        "outputId": "c1b64026-bd16-4efd-c933-e18ccd111a3d"
      },
      "execution_count": null,
      "outputs": [
        {
          "output_type": "stream",
          "name": "stdout",
          "text": [
            "1\n",
            "2\n",
            "3\n",
            "4\n"
          ]
        }
      ]
    },
    {
      "cell_type": "markdown",
      "source": [
        "Application 5 - Create a phython program that displays number 4 using while and break statement:"
      ],
      "metadata": {
        "id": "VeWimT4kivFn"
      }
    },
    {
      "cell_type": "code",
      "source": [
        "j=1\n",
        "while j<=4:\n",
        "  j+=1\n",
        "  if j == 4:\n",
        "   print(j)"
      ],
      "metadata": {
        "colab": {
          "base_uri": "https://localhost:8080/"
        },
        "id": "vBLCoKeGixRC",
        "outputId": "7035bc8a-b949-457b-d520-aa9b691cb08f"
      },
      "execution_count": null,
      "outputs": [
        {
          "output_type": "stream",
          "name": "stdout",
          "text": [
            "4\n"
          ]
        }
      ]
    }
  ]
}